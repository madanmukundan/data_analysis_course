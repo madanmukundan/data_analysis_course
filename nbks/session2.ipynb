{
 "cells": [
  {
   "cell_type": "code",
   "execution_count": 8,
   "metadata": {},
   "outputs": [],
   "source": [
    "import scanpy as sc # type: ignore\n",
    "import pandas as pd # type: ignore\n",
    "import numpy as np # type: ignore\n",
    "import os"
   ]
  },
  {
   "cell_type": "code",
   "execution_count": 15,
   "metadata": {},
   "outputs": [],
   "source": [
    "# adata = sc.read_h5ad(\"./input_data/adata_course_part1.h5ad\") # VM\n",
    "adata = sc.read_h5ad(os.path.normpath(\"../data/input_data/adata_course_part1.h5ad\")) # Win"
   ]
  },
  {
   "cell_type": "code",
   "execution_count": 16,
   "metadata": {},
   "outputs": [
    {
     "name": "stdout",
     "output_type": "stream",
     "text": [
      "AnnData object with n_obs × n_vars = 14878 × 22546\n",
      "    obs: 'initial_size_spliced', 'initial_size_unspliced', 'initial_size', 'fraction_mito', 'n_genes', 'num_spliced', 'num_ambiguous', 'num_unspliced', 'fraction_spliced', 'is_cell', 'is_high_quality', 'is_nonambient', 'is_not_debris', 'soupc_rho', 'sample'\n",
      "    var: 'gene_ids', 'feature_types', 'soup_profile'\n",
      "    layers: 'X_beforeAmbientRemoval', 'ambiguous', 'spliced', 'unspliced'\n"
     ]
    }
   ],
   "source": [
    "print(adata)"
   ]
  },
  {
   "cell_type": "code",
   "execution_count": 17,
   "metadata": {},
   "outputs": [
    {
     "name": "stdout",
     "output_type": "stream",
     "text": [
      "Number of Tent. Cells: 14878\n",
      "Number of Genes: 22546\n"
     ]
    }
   ],
   "source": [
    "num_cells, num_genes = adata.X.shape # len 2\n",
    "print(f\"Number of Tent. Cells: {num_cells}\\nNumber of Genes: {num_genes}\")"
   ]
  },
  {
   "cell_type": "code",
   "execution_count": 28,
   "metadata": {},
   "outputs": [
    {
     "data": {
      "text/plain": [
       "AAACCCAAGTTGGCGA-rd10    rd10\n",
       "AAACCCACAGAAACCG-rd10    rd10\n",
       "AAACCCAGTGCCGTAC-rd10    rd10\n",
       "AAACCCATCGCGCCAA-rd10    rd10\n",
       "AAACGAAAGCAACCAG-rd10    rd10\n",
       "                         ... \n",
       "TTTGTTGAGCTCTTCC-wt        wt\n",
       "TTTGTTGCATCTCCCA-wt        wt\n",
       "TTTGTTGCATCTGTTT-wt        wt\n",
       "TTTGTTGTCCAACTGA-wt        wt\n",
       "TTTGTTGTCGAACACT-wt        wt\n",
       "Name: sample, Length: 14878, dtype: category\n",
       "Categories (2, object): ['rd10', 'wt']"
      ]
     },
     "metadata": {},
     "output_type": "display_data"
    },
    {
     "data": {
      "text/plain": [
       "(14878, 15)"
      ]
     },
     "execution_count": 28,
     "metadata": {},
     "output_type": "execute_result"
    }
   ],
   "source": [
    "# Test calling\n",
    "display(adata.obs[\"sample\"])\n",
    "# adata.obs[\"sample\"].size\n",
    "adata.obs.shape"
   ]
  },
  {
   "cell_type": "code",
   "execution_count": 39,
   "metadata": {},
   "outputs": [
    {
     "data": {
      "text/plain": [
       "wt     53.77% of samples\n",
       "rd10   46.23% of samples\n",
       "Name: sample, dtype: float64"
      ]
     },
     "metadata": {},
     "output_type": "display_data"
    }
   ],
   "source": [
    "samples = (adata.obs[\"sample\"]\n",
    "           .value_counts()\n",
    "           .divide(adata.obs[\"sample\"].size)\n",
    "           .multiply(100))\n",
    "\n",
    "with pd.option_context(\"display.float_format\",\"{:,.2f}% of samples\".format):\n",
    "    display(samples)\n",
    "    # print(samples)"
   ]
  },
  {
   "cell_type": "code",
   "execution_count": 40,
   "metadata": {},
   "outputs": [],
   "source": [
    "adata.obs[\"X_sum\"] = adata.X.sum(axis=1)"
   ]
  },
  {
   "cell_type": "code",
   "execution_count": 42,
   "metadata": {},
   "outputs": [
    {
     "data": {
      "text/plain": [
       "Text(0.5, 1.0, 'Total Number of Counts by Cell')"
      ]
     },
     "execution_count": 42,
     "metadata": {},
     "output_type": "execute_result"
    },
    {
     "data": {
      "image/png": "[encoded data removed]",
      "text/plain": [
       "<Figure size 640x480 with 1 Axes>"
      ]
     },
     "metadata": {},
     "output_type": "display_data"
    }
   ],
   "source": [
    "import matplotlib.pyplot as plt # type: ignore\n",
    "\n",
    "plt.hist(adata.obs[\"X_sum\"],bins=1000)\n",
    "plt.xlabel(\"# Counts\")\n",
    "plt.ylabel(\"Incidence\")\n",
    "plt.title(\"Total Number of Counts by Cell\")\n"
   ]
  }
 ],
 "metadata": {
  "kernelspec": {
   "display_name": "iob-py",
   "language": "python",
   "name": "python3"
  },
  "language_info": {
   "codemirror_mode": {
    "name": "ipython",
    "version": 3
   },
   "file_extension": ".py",
   "mimetype": "text/x-python",
   "name": "python",
   "nbconvert_exporter": "python",
   "pygments_lexer": "ipython3",
   "version": "3.11.9"
  }
 },
 "nbformat": 4,
 "nbformat_minor": 2
}
